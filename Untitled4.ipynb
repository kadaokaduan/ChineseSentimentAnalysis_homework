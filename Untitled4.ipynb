{
 "cells": [
  {
   "cell_type": "code",
   "execution_count": 2,
   "metadata": {},
   "outputs": [],
   "source": [
    "import fasttext\n",
    "model1 =fasttext.skipgram(\"train_dl.txt\", \"dl_fasttext_model_1\",dim = 100)"
   ]
  },
  {
   "cell_type": "code",
   "execution_count": 3,
   "metadata": {},
   "outputs": [
    {
     "name": "stderr",
     "output_type": "stream",
     "text": [
      "Using TensorFlow backend.\n"
     ]
    }
   ],
   "source": [
    "import numpy as np\n",
    "import pandas as pd\n",
    "# import seaborn as sns\n",
    "import time\n",
    "\n",
    "from keras.preprocessing import sequence\n",
    "from collections import Counter\n",
    "from pyfasttext import FastText\n",
    "import fasttext\n",
    "\n",
    "class Preprocessing:\n",
    "    def __init__(self):\n",
    "        # self.model = FastText(\"../data/input/models/sg_pyfasttext.bin\")  # DEBUG\n",
    "        # model1 =fasttext.skipgram(\"train.txt\", \"model\",dim = 50)\n",
    "        self.model = FastText(\"dl_fasttext_model_1.bin\")\n",
    "        # self.vocab_size, self.vector_size = self.model.numpy_normalized_vectors.shape  # OK\n",
    "        self.vocab_size = self.model.nwords\n",
    "        self.vector_size = self.model.args.get(\"dim\")\n",
    "        # self.vector_size:200, self.vocab_size: 925242\n",
    "        # print(f\"self.vector_size:{self.vector_size}, self.vocab_size: {self.vocab_size}\")\n",
    "\n",
    "        # 句子的表示形式:\n",
    "        # {\"avg\": 向量和的平均, \"fasttext\": get_numpy_sentence_vector, \"concatenate\": 向量拼接和补齐, \"matrix\": 矩阵}\n",
    "        self.sentence_vec_type = \"matrix\"\n",
    "\n",
    "        self.MAX_SENT_LEN = 70  # DEBUG: 超参数. self.get_sent_max_length()\n",
    "        # 对于\"concatenate\": self.MAX_SENT_LEN = 30, 取其他不同值的结果: 100: 50.22%, 80: 50.23%, 70: 50.33%, 60: 55.92%, 50: 69.11%, 40: 68.91%, 36: 69.34%, 30: 69.22%, 20: 69.17%, 10: 67.07%\n",
    "        # 对于\"matrix\": self.MAX_SENT_LEN = 70, 取其他不同值的结果: TODO:\n",
    "\n",
    "    @classmethod\n",
    "    def data_analysis(cls):\n",
    "        train_df = pd.read_csv(\"train_dl.txt\", sep=\"__label__\", header=None, names=[\"sentence\",\"label\"])\n",
    "        val_df = pd.read_csv(\"test_dl.txt\", sep=\"__label__\", header=None, names=[\"sentence\",\"label\"])\n",
    "        y_train = train_df[\"label\"]\n",
    "        y_val = val_df[\"label\"]\n",
    "        sns.set(style=\"white\", context=\"notebook\", palette=\"deep\")\n",
    "        # 查看样本数据分布情况(各个label数据是否均匀分布)\n",
    "        sns.countplot(y_train)\n",
    "        plt.show()\n",
    "        sns.countplot(y_val)\n",
    "        plt.show()\n",
    "        print(y_train.value_counts())\n",
    "        print(y_val.value_counts())\n",
    "\n",
    "    def set_sent_vec_type(self, sentence_vec_type):\n",
    "        assert sentence_vec_type in [\"avg\", \"concatenate\", \"fasttext\", \"matrix\"], \\\n",
    "            \"sentence_vec_type must be in ['avg', 'fasttext', 'concatenate', 'matrix']\"\n",
    "        self.sentence_vec_type = sentence_vec_type\n",
    "\n",
    "    def get_sent_max_length(self):  # NOT_USED\n",
    "        sent_len_counter = Counter()\n",
    "        max_length = 0\n",
    "        with open(\"../data/input/training_set.txt\") as f:\n",
    "            for line in f:\n",
    "                content = line.strip().split(\"\\t\")[1]\n",
    "                content_list = content.split()\n",
    "                length = len(content_list)\n",
    "                sent_len_counter[length] += 1\n",
    "                if max_length <= length:\n",
    "                    max_length = length\n",
    "        sent_len_counter = sorted(list(sent_len_counter.items()), key=lambda x: x[0])\n",
    "        print(sent_len_counter)\n",
    "        # [(31, 1145), (32, 1105), (33, 1017), (34, 938), (35, 839), (36, 830), (37, 775), (38, 737), (39, 720), (40, 643), (41, 575), (42, 584), (43, 517), (44, 547), (45, 514), (46, 514), (47, 480), (48, 460), (49, 470), (50, 444), (51, 484), (52, 432), (53, 462), (54, 495), (55, 487), (56, 500), (57, 496), (58, 489), (59, 419), (60, 387), (61, 348), (62, 265), (63, 222), (64, 153), (65, 127), (66, 103), (67, 67), (68, 34), (69, 21), (70, 22), (71, 8), (72, 6), (73, 4), (74, 10), (75, 2), (76, 4), (77, 2), (78, 1), (79, 2), (80, 4), (81, 2), (82, 3), (83, 1), (84, 5), (86, 4), (87, 3), (88, 3), (89, 2), (90, 2), (91, 3), (92, 5), (93, 2), (94, 4), (96, 1), (97, 5), (98, 1), (99, 2), (100, 2), (101, 2), (102, 1), (103, 2), (104, 2), (105, 2), (106, 5), (107, 3), (108, 2), (109, 3), (110, 4), (111, 1), (112, 2), (113, 3), (114, 1), (116, 1), (119, 3), (679, 1)]\n",
    "        return max_length\n",
    "\n",
    "    def gen_sentence_vec(self, sentence):\n",
    "        \"\"\"\n",
    "        :param sentence: \n",
    "        :return: \n",
    "        \"\"\"\n",
    "        sentence = sentence.strip()\n",
    "        if self.sentence_vec_type == \"fasttext\":\n",
    "            return self.model.get_numpy_sentence_vector(sentence)\n",
    "\n",
    "        word_list = sentence.split(\" \")\n",
    "        if self.sentence_vec_type == \"concatenate\":\n",
    "            sentence_vector = self.model.get_numpy_vector(word_list[0])\n",
    "            for word in word_list[1:]:\n",
    "                sentence_vector = np.hstack((sentence_vector, self.model.get_numpy_vector(word)))\n",
    "            return sentence_vector  # NOTE: 对于concatenate情况, 每个句子的sentence_vector是不一样长的\n",
    "        if self.sentence_vec_type == \"matrix\":  # for Deep Learning.\n",
    "            sentence_matrix = []\n",
    "            for word in word_list[-self.MAX_SENT_LEN:]:  # NOTE: 截取后面的应该是要好些(参考https://github.com/lxw0109/SentimentClassification_UMICH_SI650/blob/master/src/LSTM_wo_pretrained_vector.py#L86)\n",
    "                sentence_matrix.append(self.model.get_numpy_vector(word))\n",
    "            length = len(sentence_matrix)\n",
    "            # 一定成立，因为上面做了切片截取\n",
    "            assert length <= self.MAX_SENT_LEN, \"CRITICAL ERROR: len(sentence_matrix) > self.MAX_SENT_LEN.\"\n",
    "            # 参数中的matrix类型为list of ndarray, 返回值的matrix是ndarray of ndarray\n",
    "            sentence_matrix = np.pad(sentence_matrix, pad_width=((0, self.MAX_SENT_LEN - length), (0, 0)),\n",
    "                                     mode=\"constant\", constant_values=-1)\n",
    "            return sentence_matrix\n",
    "        else:  # self.sentence_vec_type == \"avg\":\n",
    "            sentence_vector = np.zeros(self.vector_size)  # <ndarray>\n",
    "            # print(f\"type(sentence_vector): {type(sentence_vector)}\")\n",
    "            for idx, word in enumerate(word_list):\n",
    "                # print(f\"type(self.model.get_numpy_vector(word)): {type(self.model.get_numpy_vector(word))}\")  # <ndarray>\n",
    "                sentence_vector += self.model.get_numpy_vector(word)\n",
    "            return sentence_vector / len(word_list)\n",
    "\n",
    "    def gen_train_val_data(self):\n",
    "        # 构造训练数据 & 验证数据\n",
    "        train_df = pd.read_csv(\"train_dl.txt\", sep=\"__label__\", header=None, names=[\"sentence\",\"label\"])\n",
    "        val_df = pd.read_csv(\"test_dl.txt\", sep=\"__label__\", header=None, names=[\"sentence\",\"label\"])\n",
    "        # 打乱训练集的顺序. TODO: 不打乱感觉训练出来的模型是有问题的?(好看那句总是预测结果是1？)\n",
    "        train_df = train_df.sample(frac=1, random_state=1)\n",
    "        # val_df = val_df.sample(frac=1, random_state=1)  # 验证集不用打乱\n",
    "\n",
    "        X_train = train_df[\"sentence\"]\n",
    "        X_train_vec = list()\n",
    "        for sentence in X_train:\n",
    "            sent_vector = self.gen_sentence_vec(sentence)\n",
    "            X_train_vec.append(sent_vector)\n",
    "        y_train = train_df[\"label\"]  # <Series>\n",
    "\n",
    "        X_val = val_df[\"sentence\"]\n",
    "        X_val_vec = list()\n",
    "        for sentence in X_val:\n",
    "            sent_vector = self.gen_sentence_vec(sentence)\n",
    "            X_val_vec.append(sent_vector)\n",
    "        y_val = val_df[\"label\"]  # <Series>\n",
    "\n",
    "        if self.sentence_vec_type == \"concatenate\":\n",
    "            # NOTE: 注意，这里的dtype是必须的，否则dtype默认值是\"int32\", 词向量所有的数值会被全部转换为0\n",
    "            X_train_vec = sequence.pad_sequences(X_train_vec, maxlen=self.MAX_SENT_LEN * self.vector_size, value=0,\n",
    "                                             dtype=np.float)\n",
    "            X_val_vec = sequence.pad_sequences(X_val_vec, maxlen=self.MAX_SENT_LEN * self.vector_size, value=0,\n",
    "                                           dtype=np.float)\n",
    "\n",
    "        return np.array(X_train_vec), np.array(X_val_vec), np.array(y_train), np.array(y_val)\n",
    "\n"
   ]
  },
  {
   "cell_type": "code",
   "execution_count": 3,
   "metadata": {},
   "outputs": [
    {
     "name": "stderr",
     "output_type": "stream",
     "text": [
      "/usr/local/lib/python3.5/dist-packages/ipykernel_launcher.py:101: ParserWarning: Falling back to the 'python' engine because the 'c' engine does not support regex separators (separators > 1 char and different from '\\s+' are interpreted as regex); you can avoid this warning by specifying engine='python'.\n",
      "/usr/local/lib/python3.5/dist-packages/ipykernel_launcher.py:102: ParserWarning: Falling back to the 'python' engine because the 'c' engine does not support regex separators (separators > 1 char and different from '\\s+' are interpreted as regex); you can avoid this warning by specifying engine='python'.\n"
     ]
    }
   ],
   "source": [
    "preprocess_obj = Preprocessing()\n",
    "preprocess_obj.set_sent_vec_type(\"fasttext\")\n",
    "\"\"\"\n",
    "    preprocess_obj.get_sent_max_length()\n",
    "    sentence = \"刘晓伟 好人\"  # gen_sentence_vec()函数里\"fasttext\"的情况感觉也得处理成这种情况(空格分格)?\n",
    "    # sentence = \"刘晓伟好人\"  # NOTE: 与空格分割得到的向量不同\n",
    "    preprocess_obj.set_sent_vec_type(\"fasttext\")\n",
    "    print(f'fasttext: {preprocess_obj.gen_sentence_vec(sentence)}')\n",
    "    preprocess_obj.set_sent_vec_type(\"avg\")\n",
    "    print(f'avg: {preprocess_obj.gen_sentence_vec(sentence)}')\n",
    "    preprocess_obj.set_sent_vec_type(\"concatenate\")\n",
    "    print(f'concatenate: {preprocess_obj.gen_sentence_vec(sentence)}')\n",
    "\"\"\"\n",
    "\n",
    "X_train, X_val, y_train, y_val = preprocess_obj.gen_train_val_data()\n",
    "# print(f\"X_train: {X_train}\\nX_val: {X_val}\\ny_train: {y_train}\\ny_val: {y_val}\")\n",
    "# print(f\"X_train.shape: {X_train.shape}\\nX_val.shape: {X_val.shape}\\n\"\n",
    "#          f\"y_train.shape: {y_train.shape}\\ny_val.shape: {y_val.shape}\")"
   ]
  },
  {
   "cell_type": "code",
   "execution_count": 17,
   "metadata": {},
   "outputs": [
    {
     "ename": "NameError",
     "evalue": "name 'train_df' is not defined",
     "output_type": "error",
     "traceback": [
      "\u001b[0;31m---------------------------------------------------------------------------\u001b[0m",
      "\u001b[0;31mNameError\u001b[0m                                 Traceback (most recent call last)",
      "\u001b[0;32m<ipython-input-17-7c274ac1ce25>\u001b[0m in \u001b[0;36m<module>\u001b[0;34m()\u001b[0m\n\u001b[0;32m----> 1\u001b[0;31m \u001b[0mtrain_df\u001b[0m\u001b[0;34m[\u001b[0m\u001b[0;36m0\u001b[0m\u001b[0;34m]\u001b[0m\u001b[0;34m\u001b[0m\u001b[0m\n\u001b[0m",
      "\u001b[0;31mNameError\u001b[0m: name 'train_df' is not defined"
     ]
    }
   ],
   "source": []
  },
  {
   "cell_type": "code",
   "execution_count": 16,
   "metadata": {},
   "outputs": [
    {
     "data": {
      "text/plain": [
       "array([0, 1, 0, ..., 0, 0, 1])"
      ]
     },
     "execution_count": 16,
     "metadata": {},
     "output_type": "execute_result"
    }
   ],
   "source": []
  },
  {
   "cell_type": "code",
   "execution_count": 30,
   "metadata": {},
   "outputs": [],
   "source": [
    "import numpy as np\n",
    "import pandas as pd\n",
    "import pickle\n",
    "import time\n",
    "\n",
    "from keras.callbacks import EarlyStopping\n",
    "from keras.callbacks import ModelCheckpoint\n",
    "from keras.callbacks import ReduceLROnPlateau\n",
    "from keras.layers import Conv1D\n",
    "from keras.layers import Dense\n",
    "from keras.layers import Dropout\n",
    "from keras.layers import GlobalAveragePooling1D\n",
    "from keras.layers import LSTM\n",
    "from keras.layers import Masking\n",
    "from keras.layers import MaxPooling1D\n",
    "from keras.models import Sequential\n",
    "from keras.preprocessing import sequence\n",
    "from keras.utils import np_utils\n",
    "\n",
    "\n",
    "class SentimentAnalysis:\n",
    "    def __init__(self, preprocess_obj, sent_vec_type):\n",
    "        self.model_path_prefix=\"../data/output/models/\"\n",
    "        self.algorithm_name = \"nn\"\n",
    "        self.model_path = \"{self.model_path_prefix}{self.algorithm_name}_{sent_vec_type}\"\n",
    "        self.preprocess_obj = preprocess_obj\n",
    "        self.sent_vec_type = sent_vec_type\n",
    "        self.bath_size = 512  # TODO\n",
    "        self.epochs = 1000  # TODO\n",
    "\n",
    "    def pick_algorithm(self, algorithm_name, sent_vec_type):\n",
    "        assert algorithm_name in [\"nn\", \"cnn\", \"lstm\"], \"algorithm_name must be in ['nn', 'cnn', 'lstm']\"\n",
    "        self.algorithm_name = algorithm_name\n",
    "        self.model_path = \"{self.model_path_prefix}{self.algorithm_name}_{sent_vec_type}\"\n",
    "        self.sent_vec_type = sent_vec_type\n",
    "\n",
    "    def model_build(self, input_shape):\n",
    "        model_cls = Sequential()\n",
    "        if self.algorithm_name == \"nn\":  # Neural Network(Multi-Layer Perceptron)\n",
    "            # activation is essential for Dense, otherwise linear is used.\n",
    "            model_cls.add(Dense(64, input_shape=input_shape, activation=\"relu\", name=\"dense1\"))\n",
    "            model_cls.add(Dropout(0.25, name=\"dropout2\"))\n",
    "            model_cls.add(Dense(64, activation=\"relu\", name=\"dense3\"))\n",
    "            model_cls.add(Dropout(0.25, name=\"dropout4\"))\n",
    "            model_cls.add(Dense(2, activation=\"softmax\", name=\"dense5\"))\n",
    "            # model_cls.compile(loss=\"binary_crossentropy\", optimizer=\"adam\", metrics=[\"accuracy\"])  # TODO:\n",
    "            model_cls.compile(loss=\"categorical_crossentropy\", optimizer=\"adam\", metrics=[\"accuracy\"])\n",
    "        elif self.algorithm_name == \"cnn\":\n",
    "            # input_shape = (rows行, cols列, 1) 1表示颜色通道数目, rows行，对应一句话的长度, cols列表示词向量的维度\n",
    "            model_cls.add(Conv1D(64, 3, activation=\"relu\", input_shape=input_shape))  # filters, kernel_size\n",
    "            model_cls.add(Conv1D(64, 3, activation=\"relu\"))\n",
    "            model_cls.add(MaxPooling1D(3))\n",
    "            model_cls.add(Conv1D(128, 3, activation=\"relu\"))\n",
    "            model_cls.add(Conv1D(128, 3, activation=\"relu\"))\n",
    "            model_cls.add(GlobalAveragePooling1D())\n",
    "            model_cls.add(Dropout(0.25))\n",
    "            model_cls.add(Dense(2, activation=\"sigmoid\"))\n",
    "\n",
    "            model_cls.compile(loss=\"binary_crossentropy\", optimizer=\"adam\", metrics=[\"accuracy\"])  # TODO: categorical_crossentropy\n",
    "        elif self.algorithm_name == \"lstm\":\n",
    "            model_cls.add(Masking(mask_value=-1, input_shape=input_shape, name=\"masking_layer\"))\n",
    "            model_cls.add(LSTM(units=64, return_sequences=True, dropout=0.25, name=\"lstm1\"))\n",
    "            model_cls.add(LSTM(units=128, return_sequences=False, dropout=0.25, name=\"lstm2\"))\n",
    "            model_cls.add(Dense(units=2, activation=\"softmax\", name=\"dense5\"))\n",
    "\n",
    "            model_cls.compile(loss=\"categorical_crossentropy\", optimizer=\"adam\", metrics=[\"accuracy\"])\n",
    "\n",
    "        return model_cls\n",
    "\n",
    "    def model_train(self, model_cls, X_train, X_val, y_train, y_val):\n",
    "        \"\"\"\n",
    "        分类器模型的训练\n",
    "        :param model_cls: 所使用的算法的类的定义，尚未训练的模型\n",
    "        :param X_train: \n",
    "        :param y_train: \n",
    "        :param X_val: \n",
    "        :param y_val: \n",
    "        :return: 训练好的模型\n",
    "        \"\"\"\n",
    "        early_stopping = EarlyStopping(monitor=\"val_loss\", patience=10)\n",
    "        lr_reduction = ReduceLROnPlateau(monitor=\"val_loss\", patience=5, verbose=1, factor=0.2, min_lr=1e-5)\n",
    "        # 检查最好模型: 只要有提升, 就保存一次. 保存到多个模型文件\n",
    "        # model_path = f\"../data/output/models/{self.algorithm_name}_best_model_{epoch:02d}_{val_loss:.2f}.hdf5\"  # NO\n",
    "        model_path = \"../data/output/models/best_model_{epoch:02d}_{val_loss:.2f}.hdf5\"  # OK\n",
    "        checkpoint = ModelCheckpoint(filepath=model_path, monitor=\"val_loss\", verbose=1, save_best_only=True,\n",
    "                                     mode=\"min\")\n",
    "\n",
    "        hist_obj = model_cls.fit(X_train, y_train, batch_size=self.bath_size, epochs=self.epochs, verbose=1,\n",
    "                                 validation_data=(X_val, y_val), callbacks=[early_stopping, lr_reduction, checkpoint])\n",
    "        with open(\"../data/output/history_\"+self.algorithm_name+\"_\"+self.sent_vec_type+\".pkl\", \"wb\") as f:\n",
    "            pickle.dump(hist_obj.history, f)\n",
    "        return model_cls  # model\n",
    "\n",
    "    def plot_hist(self, history_filename):\n",
    "        import matplotlib.pyplot as plt\n",
    "\n",
    "        history = None\n",
    "        with open(\"../data/output/\"+history_filename+\".pkl\", \"rb\") as f:\n",
    "            history = pickle.load(f)\n",
    "\n",
    "        if not history:\n",
    "            return\n",
    "        # 绘制训练集和验证集的曲线\n",
    "        plt.plot(history[\"acc\"], label=\"Training Accuracy\", color=\"green\", linewidth=1)\n",
    "        plt.plot(history[\"loss\"], label=\"Training Loss\", color=\"red\", linewidth=1)\n",
    "        plt.plot(history[\"val_acc\"], label=\"Validation Accuracy\", color=\"purple\", linewidth=1)\n",
    "        plt.plot(history[\"val_loss\"], label=\"Validation Loss\", color=\"blue\", linewidth=1)\n",
    "        plt.grid(True)  # 设置网格形式\n",
    "        plt.xlabel(\"epoch\")\n",
    "        plt.ylabel(\"acc-loss\")  # 给x, y轴加注释\n",
    "        plt.legend(loc=\"upper right\")  # 设置图例显示位置\n",
    "        plt.show()\n",
    "\n",
    "    def model_evaluate(self, model, X_val, y_val):\n",
    "        \"\"\"\n",
    "        分类器模型的评估\n",
    "        :param model: 训练好的模型对象\n",
    "        :param X_val: \n",
    "        :param y_val: \n",
    "        :return: None\n",
    "        \"\"\"\n",
    "        print(\"model.metrics:{0}, model.metrics_names:{1}\".format(model.metrics, model.metrics_names))\n",
    "        scores = model.evaluate(X_val, y_val)\n",
    "        loss, accuracy = scores[0], scores[1] * 100\n",
    "        print(\"Loss: \")\n",
    "        print(loss)\n",
    "        print(\"\\n\"+self.algorithm_name+\" Classification Accuracy:\")\n",
    "        print(accuracy)\n",
    "\n",
    "    def model_predict(self, model):\n",
    "        \"\"\"\n",
    "        模型测试\n",
    "        :param model: 训练好的模型对象\n",
    "        :param preprocess_obj: Preprocessing类对象\n",
    "        :return: None\n",
    "        \"\"\"\n",
    "        sentence = \"这件 衣服 真的 太 好看 了 ！ 好想 买 啊 \"  # TODO:\n",
    "        sent_vec = np.array(self.preprocess_obj.gen_sentence_vec(sentence))  # shape: (70, 200)\n",
    "        if self.sent_vec_type == \"matrix\":  # cnn or lstm\n",
    "            sent_vec = sent_vec.reshape(1, sent_vec.shape[0], sent_vec.shape[1])\n",
    "        elif self.algorithm_name == \"nn\":  # nn.\n",
    "            sent_vec = sent_vec.reshape(1, sent_vec.shape[0])\n",
    "        elif self.algorithm_name == \"lstm\" and (self.sent_vec_type == \"avg\" or self.sent_vec_type == \"fasttext\"):  # lstm.\n",
    "            sent_vec = sent_vec.reshape(1, 1, sent_vec.shape[0])\n",
    "        print(\"'{sentence}': {np.argmax(model.predict(sent_vec))}\")  # 0: 正向\n",
    "\n",
    "        sentence = \"这 真的是 一部 非常 优秀 电影 作品\"\n",
    "        sent_vec = np.array(self.preprocess_obj.gen_sentence_vec(sentence))\n",
    "        if self.sent_vec_type == \"matrix\":  # cnn or lstm\n",
    "            sent_vec = sent_vec.reshape(1, sent_vec.shape[0], sent_vec.shape[1])\n",
    "        elif self.algorithm_name == \"nn\":  # nn.\n",
    "            sent_vec = sent_vec.reshape(1, sent_vec.shape[0])\n",
    "        elif self.algorithm_name == \"lstm\" and (self.sent_vec_type == \"avg\" or self.sent_vec_type == \"fasttext\"):  # lstm.\n",
    "            sent_vec = sent_vec.reshape(1, 1, sent_vec.shape[0])\n",
    "        print(\"'{sentence}': {np.argmax(model.predict(sent_vec))}\")  # 0: 正向\n",
    "\n",
    "        sentence = \"这个 电视 真 尼玛 垃圾 ， 老子 再也 不买 了\"\n",
    "        sent_vec = np.array(self.preprocess_obj.gen_sentence_vec(sentence))\n",
    "        if self.sent_vec_type == \"matrix\":  # cnn or lstm\n",
    "            sent_vec = sent_vec.reshape(1, sent_vec.shape[0], sent_vec.shape[1])\n",
    "        elif self.algorithm_name == \"nn\":  # nn.\n",
    "            sent_vec = sent_vec.reshape(1, sent_vec.shape[0])\n",
    "        elif self.algorithm_name == \"lstm\" and (self.sent_vec_type == \"avg\" or self.sent_vec_type == \"fasttext\"):  # lstm.\n",
    "            sent_vec = sent_vec.reshape(1, 1, sent_vec.shape[0])\n",
    "        print(\"'{sentence}': {np.argmax(model.predict(sent_vec))}\")  # 1: 负向\n",
    "\n",
    "        sentence_df = pd.read_csv(\"../data/input/training_set.txt\", sep=\"\\t\", header=None, names=[\"label\", \"sentence\"])\n",
    "        sentence_df = sentence_df.sample(frac=1)\n",
    "        sentence_series = sentence_df[\"sentence\"]\n",
    "        label_series = sentence_df[\"label\"]\n",
    "        print(\"label_series: {label_series.iloc[:11]}\")\n",
    "        count = 0\n",
    "        for sentence in sentence_series:\n",
    "            count += 1\n",
    "            sentence = sentence.strip()\n",
    "            sent_vec = np.array(self.preprocess_obj.gen_sentence_vec(sentence))\n",
    "            if self.sent_vec_type == \"matrix\":  # cnn or lstm\n",
    "                sent_vec = sent_vec.reshape(1, sent_vec.shape[0], sent_vec.shape[1])\n",
    "            elif self.algorithm_name == \"nn\":  # nn.\n",
    "                sent_vec = sent_vec.reshape(1, sent_vec.shape[0])\n",
    "            elif self.algorithm_name == \"lstm\" and (self.sent_vec_type == \"avg\" or self.sent_vec_type == \"fasttext\"):  # lstm.\n",
    "                sent_vec = sent_vec.reshape(1, 1, sent_vec.shape[0])\n",
    "            print(\"'{sentence}': {np.argmax(model.predict(sent_vec))}\")  # 0: 正向, 1: 负向\n",
    "            if count > 10:\n",
    "                break\n",
    "\n"
   ]
  },
  {
   "cell_type": "markdown",
   "metadata": {},
   "source": [
    "# fasttext+lstm"
   ]
  },
  {
   "cell_type": "code",
   "execution_count": 31,
   "metadata": {
    "scrolled": false
   },
   "outputs": [
    {
     "name": "stderr",
     "output_type": "stream",
     "text": [
      "/usr/local/lib/python3.5/dist-packages/ipykernel_launcher.py:101: ParserWarning: Falling back to the 'python' engine because the 'c' engine does not support regex separators (separators > 1 char and different from '\\s+' are interpreted as regex); you can avoid this warning by specifying engine='python'.\n",
      "/usr/local/lib/python3.5/dist-packages/ipykernel_launcher.py:102: ParserWarning: Falling back to the 'python' engine because the 'c' engine does not support regex separators (separators > 1 char and different from '\\s+' are interpreted as regex); you can avoid this warning by specifying engine='python'.\n"
     ]
    },
    {
     "name": "stdout",
     "output_type": "stream",
     "text": [
      "Train on 11702 samples, validate on 3911 samples\n",
      "Epoch 1/1000\n",
      "11702/11702 [==============================] - 3s 279us/step - loss: 0.6926 - acc: 0.5185 - val_loss: 0.6924 - val_acc: 0.5142\n",
      "\n",
      "Epoch 00001: val_loss improved from inf to 0.69244, saving model to ../data/output/models/best_model_01_0.69.hdf5\n",
      "Epoch 2/1000\n",
      "11702/11702 [==============================] - 1s 104us/step - loss: 0.6900 - acc: 0.5339 - val_loss: 0.6911 - val_acc: 0.5150\n",
      "\n",
      "Epoch 00002: val_loss improved from 0.69244 to 0.69111, saving model to ../data/output/models/best_model_02_0.69.hdf5\n",
      "Epoch 3/1000\n",
      "11702/11702 [==============================] - 1s 108us/step - loss: 0.6864 - acc: 0.5420 - val_loss: 0.6912 - val_acc: 0.5193\n",
      "\n",
      "Epoch 00003: val_loss did not improve from 0.69111\n",
      "Epoch 4/1000\n",
      "11702/11702 [==============================] - 1s 112us/step - loss: 0.6830 - acc: 0.5451 - val_loss: 0.6917 - val_acc: 0.5214\n",
      "\n",
      "Epoch 00004: val_loss did not improve from 0.69111\n",
      "Epoch 5/1000\n",
      "11702/11702 [==============================] - 1s 93us/step - loss: 0.6819 - acc: 0.5465 - val_loss: 0.6920 - val_acc: 0.5214\n",
      "\n",
      "Epoch 00005: val_loss did not improve from 0.69111\n",
      "Epoch 6/1000\n",
      "11702/11702 [==============================] - 1s 84us/step - loss: 0.6817 - acc: 0.5470 - val_loss: 0.6921 - val_acc: 0.5219\n",
      "\n",
      "Epoch 00006: val_loss did not improve from 0.69111\n",
      "Epoch 7/1000\n",
      "11702/11702 [==============================] - 1s 116us/step - loss: 0.6803 - acc: 0.5473 - val_loss: 0.6923 - val_acc: 0.5224\n",
      "\n",
      "Epoch 00007: ReduceLROnPlateau reducing learning rate to 0.00020000000949949026.\n",
      "\n",
      "Epoch 00007: val_loss did not improve from 0.69111\n",
      "Epoch 8/1000\n",
      "11702/11702 [==============================] - 1s 77us/step - loss: 0.6809 - acc: 0.5469 - val_loss: 0.6921 - val_acc: 0.5221\n",
      "\n",
      "Epoch 00008: val_loss did not improve from 0.69111\n",
      "Epoch 9/1000\n",
      "11702/11702 [==============================] - 1s 69us/step - loss: 0.6812 - acc: 0.5457 - val_loss: 0.6921 - val_acc: 0.5224\n",
      "\n",
      "Epoch 00009: val_loss did not improve from 0.69111\n",
      "Epoch 10/1000\n",
      "11702/11702 [==============================] - 1s 97us/step - loss: 0.6804 - acc: 0.5473 - val_loss: 0.6920 - val_acc: 0.5226\n",
      "\n",
      "Epoch 00010: val_loss did not improve from 0.69111\n",
      "Epoch 11/1000\n",
      "11702/11702 [==============================] - 1s 98us/step - loss: 0.6803 - acc: 0.5467 - val_loss: 0.6921 - val_acc: 0.5221\n",
      "\n",
      "Epoch 00011: val_loss did not improve from 0.69111\n",
      "Epoch 12/1000\n",
      "11702/11702 [==============================] - 1s 122us/step - loss: 0.6797 - acc: 0.5472 - val_loss: 0.6921 - val_acc: 0.5221\n",
      "\n",
      "Epoch 00012: ReduceLROnPlateau reducing learning rate to 4.0000001899898055e-05.\n",
      "\n",
      "Epoch 00012: val_loss did not improve from 0.69111\n",
      "model.metrics:['accuracy'], model.metrics_names:['loss', 'acc']\n",
      "3911/3911 [==============================] - 1s 168us/step\n",
      "Loss: \n",
      "0.6921460853455713\n",
      "\n",
      "lstm Classification Accuracy:\n",
      "52.21171056453117\n"
     ]
    },
    {
     "data": {
      "image/png": "[encoded data removed]",
      "text/plain": [
       "<Figure size 432x288 with 1 Axes>"
      ]
     },
     "metadata": {},
     "output_type": "display_data"
    },
    {
     "name": "stdout",
     "output_type": "stream",
     "text": [
      "\n",
      "Program Running Cost {end_time -start_time:.2f}s\n"
     ]
    }
   ],
   "source": [
    "start_time = time.time()\n",
    "preprocess_obj = Preprocessing()\n",
    "preprocess_obj.set_sent_vec_type(\"fasttext\")\n",
    "X_train, X_val, y_train, y_val = preprocess_obj.gen_train_val_data()\n",
    "y_train = np_utils.to_categorical(y_train)\n",
    "y_val = np_utils.to_categorical(y_val)\n",
    "X_train = X_train.reshape(X_train.shape[0], 1, X_train.shape[1])\n",
    "X_val = X_val.reshape(X_val.shape[0], 1, X_val.shape[1])\n",
    "sent_analyse = SentimentAnalysis(preprocess_obj, \"fasttext\")\n",
    "input_shape = (X_train.shape[1], X_train.shape[2])\n",
    "sent_analyse.pick_algorithm(\"lstm\", \"fasttext\")\n",
    "model_cls = sent_analyse.model_build(input_shape=input_shape)\n",
    "model = sent_analyse.model_train(model_cls, X_train, X_val, y_train, y_val)\n",
    "sent_analyse.model_evaluate(model, X_val, y_val)\n",
    "sent_analyse.plot_hist(\"history_lstm_fasttext\")\n",
    "'''\n",
    "\n",
    "    sent_vec_type_list = [\"avg\", \"fasttext\", \"matrix\"]  # NN(MLP): 只能使用avg或fasttext. CNN: 只能使用matrix. LSTM: avg, fasttext, matrix均可.\n",
    "    sent_vec_type = sent_vec_type_list[0]\n",
    "    print(f\"\\n{sent_vec_type} and\", end=\" \")\n",
    "    preprocess_obj.set_sent_vec_type(sent_vec_type)\n",
    "\n",
    "    X_train, X_val, y_train, y_val = preprocess_obj.gen_train_val_data()\n",
    "    y_train = np_utils.to_categorical(y_train)\n",
    "    y_val = np_utils.to_categorical(y_val)\n",
    "\n",
    "    sent_analyse = SentimentAnalysis(preprocess_obj, sent_vec_type)\n",
    "    algorithm_list = [\"nn\", \"cnn\", \"lstm\"]\n",
    "    algorithm_name = algorithm_list[0]\n",
    "\n",
    "    if len(X_train.shape) == 2 and algorithm_name == \"lstm\":  # avg or fasttext\n",
    "        X_train = X_train.reshape(X_train.shape[0], 1, X_train.shape[1])\n",
    "        X_val = X_val.reshape(X_val.shape[0], 1, X_val.shape[1])\n",
    "        input_shape = (X_train.shape[1], X_train.shape[2])\n",
    "    elif algorithm_name == \"nn\":\n",
    "        input_shape = (X_train.shape[1],)\n",
    "    else:  # algorithm_name == \"cnn\" or (algorithm_name == \"lstm\" and len(X_train.shape) == 3)\n",
    "        input_shape = (X_train.shape[1], X_train.shape[2])\n",
    "    print(X_train.shape, y_train.shape)  # (19998, 200)/(19998, 70, 200) (19998,)\n",
    "    print(X_val.shape, y_val.shape)  # (5998, 200)/(5998, 70, 200) (5998,)\n",
    "\n",
    "    print(f\"{algorithm_name}:\")\n",
    "    sent_analyse.pick_algorithm(algorithm_name, sent_vec_type)\n",
    "    # \"\"\"\n",
    "    model_cls = sent_analyse.model_build(input_shape=input_shape)\n",
    "    model = sent_analyse.model_train(model_cls, X_train, X_val, y_train, y_val)\n",
    "    # \"\"\"\n",
    "    sent_analyse.model_evaluate(model, X_val, y_val)\n",
    "    sent_analyse.model_predict(model)\n",
    "'''\n",
    "end_time = time.time()\n",
    "print(\"\\nProgram Running Cost {end_time -start_time:.2f}s\")"
   ]
  },
  {
   "cell_type": "code",
   "execution_count": 26,
   "metadata": {},
   "outputs": [
    {
     "data": {
      "text/plain": [
       "array([[1., 0.],\n",
       "       [0., 1.],\n",
       "       [0., 1.],\n",
       "       ...,\n",
       "       [1., 0.],\n",
       "       [1., 0.],\n",
       "       [1., 0.]], dtype=float32)"
      ]
     },
     "execution_count": 26,
     "metadata": {},
     "output_type": "execute_result"
    }
   ],
   "source": [
    "y_train"
   ]
  },
  {
   "cell_type": "code",
   "execution_count": 38,
   "metadata": {},
   "outputs": [
    {
     "name": "stderr",
     "output_type": "stream",
     "text": [
      "/usr/local/lib/python3.5/dist-packages/ipykernel_launcher.py:101: ParserWarning: Falling back to the 'python' engine because the 'c' engine does not support regex separators (separators > 1 char and different from '\\s+' are interpreted as regex); you can avoid this warning by specifying engine='python'.\n",
      "/usr/local/lib/python3.5/dist-packages/ipykernel_launcher.py:102: ParserWarning: Falling back to the 'python' engine because the 'c' engine does not support regex separators (separators > 1 char and different from '\\s+' are interpreted as regex); you can avoid this warning by specifying engine='python'.\n"
     ]
    }
   ],
   "source": [
    "preprocess_obj = Preprocessing()\n",
    "preprocess_obj.set_sent_vec_type(\"fasttext\")\n",
    "X_train, X_test, y_train, y_test = preprocess_obj.gen_train_val_data()\n",
    "y_train = np_utils.to_categorical(y_train)\n",
    "y_test = np_utils.to_categorical(y_test)"
   ]
  },
  {
   "cell_type": "code",
   "execution_count": 39,
   "metadata": {},
   "outputs": [
    {
     "data": {
      "text/plain": [
       "array([[1., 0.],\n",
       "       [0., 1.],\n",
       "       [0., 1.],\n",
       "       ...,\n",
       "       [1., 0.],\n",
       "       [1., 0.],\n",
       "       [1., 0.]], dtype=float32)"
      ]
     },
     "execution_count": 39,
     "metadata": {},
     "output_type": "execute_result"
    }
   ],
   "source": [
    "y_train"
   ]
  },
  {
   "cell_type": "code",
   "execution_count": 40,
   "metadata": {},
   "outputs": [
    {
     "name": "stdout",
     "output_type": "stream",
     "text": [
      "Train on 11702 samples, validate on 3911 samples\n",
      "Epoch 1/1000\n",
      "11702/11702 [==============================] - 43s 4ms/step - loss: 0.6932 - acc: 0.5032 - val_loss: 0.6932 - val_acc: 0.4986\n",
      "Epoch 2/1000\n",
      "11702/11702 [==============================] - 37s 3ms/step - loss: 0.6928 - acc: 0.5014 - val_loss: 0.6925 - val_acc: 0.5132\n",
      "Epoch 3/1000\n",
      "11702/11702 [==============================] - 34s 3ms/step - loss: 0.6910 - acc: 0.5236 - val_loss: 0.6921 - val_acc: 0.5134\n",
      "Epoch 4/1000\n",
      "11702/11702 [==============================] - 27s 2ms/step - loss: 0.6910 - acc: 0.5094 - val_loss: 0.6920 - val_acc: 0.5129\n",
      "Epoch 5/1000\n",
      " 9216/11702 [======================>.......] - ETA: 5s - loss: 0.6900 - acc: 0.5241"
     ]
    },
    {
     "ename": "KeyboardInterrupt",
     "evalue": "",
     "output_type": "error",
     "traceback": [
      "\u001b[0;31m---------------------------------------------------------------------------\u001b[0m",
      "\u001b[0;31mKeyboardInterrupt\u001b[0m                         Traceback (most recent call last)",
      "\u001b[0;32m<ipython-input-40-6e0102dc2878>\u001b[0m in \u001b[0;36m<module>\u001b[0;34m()\u001b[0m\n\u001b[1;32m     11\u001b[0m \u001b[0mearly_stopping\u001b[0m \u001b[0;34m=\u001b[0m \u001b[0mEarlyStopping\u001b[0m\u001b[0;34m(\u001b[0m\u001b[0mmonitor\u001b[0m\u001b[0;34m=\u001b[0m\u001b[0;34m\"val_loss\"\u001b[0m\u001b[0;34m,\u001b[0m \u001b[0mpatience\u001b[0m\u001b[0;34m=\u001b[0m\u001b[0;36m10\u001b[0m\u001b[0;34m)\u001b[0m\u001b[0;34m\u001b[0m\u001b[0m\n\u001b[1;32m     12\u001b[0m \u001b[0mlr_reduction\u001b[0m \u001b[0;34m=\u001b[0m \u001b[0mReduceLROnPlateau\u001b[0m\u001b[0;34m(\u001b[0m\u001b[0mmonitor\u001b[0m\u001b[0;34m=\u001b[0m\u001b[0;34m\"val_loss\"\u001b[0m\u001b[0;34m,\u001b[0m \u001b[0mpatience\u001b[0m\u001b[0;34m=\u001b[0m\u001b[0;36m5\u001b[0m\u001b[0;34m,\u001b[0m \u001b[0mverbose\u001b[0m\u001b[0;34m=\u001b[0m\u001b[0;36m1\u001b[0m\u001b[0;34m,\u001b[0m \u001b[0mfactor\u001b[0m\u001b[0;34m=\u001b[0m\u001b[0;36m0.2\u001b[0m\u001b[0;34m,\u001b[0m \u001b[0mmin_lr\u001b[0m\u001b[0;34m=\u001b[0m\u001b[0;36m1e-5\u001b[0m\u001b[0;34m)\u001b[0m\u001b[0;34m\u001b[0m\u001b[0m\n\u001b[0;32m---> 13\u001b[0;31m \u001b[0mhist_obj\u001b[0m \u001b[0;34m=\u001b[0m \u001b[0mmodel_cls\u001b[0m\u001b[0;34m.\u001b[0m\u001b[0mfit\u001b[0m\u001b[0;34m(\u001b[0m\u001b[0mX_train\u001b[0m\u001b[0;34m,\u001b[0m \u001b[0my_train\u001b[0m\u001b[0;34m,\u001b[0m \u001b[0mbatch_size\u001b[0m\u001b[0;34m=\u001b[0m\u001b[0;36m512\u001b[0m\u001b[0;34m,\u001b[0m \u001b[0mepochs\u001b[0m\u001b[0;34m=\u001b[0m\u001b[0;36m1000\u001b[0m\u001b[0;34m,\u001b[0m \u001b[0mverbose\u001b[0m\u001b[0;34m=\u001b[0m\u001b[0;36m1\u001b[0m\u001b[0;34m,\u001b[0m\u001b[0mvalidation_data\u001b[0m\u001b[0;34m=\u001b[0m\u001b[0;34m(\u001b[0m\u001b[0mX_test\u001b[0m\u001b[0;34m,\u001b[0m \u001b[0my_test\u001b[0m\u001b[0;34m)\u001b[0m\u001b[0;34m,\u001b[0m \u001b[0mcallbacks\u001b[0m\u001b[0;34m=\u001b[0m\u001b[0;34m[\u001b[0m\u001b[0mearly_stopping\u001b[0m\u001b[0;34m,\u001b[0m \u001b[0mlr_reduction\u001b[0m\u001b[0;34m]\u001b[0m\u001b[0;34m)\u001b[0m\u001b[0;34m\u001b[0m\u001b[0m\n\u001b[0m\u001b[1;32m     14\u001b[0m \u001b[0;34m\u001b[0m\u001b[0m\n\u001b[1;32m     15\u001b[0m \u001b[0mscore\u001b[0m \u001b[0;34m=\u001b[0m \u001b[0mmodel_cls\u001b[0m\u001b[0;34m.\u001b[0m\u001b[0mevaluate\u001b[0m\u001b[0;34m(\u001b[0m\u001b[0mX_test\u001b[0m\u001b[0;34m,\u001b[0m \u001b[0my_test\u001b[0m\u001b[0;34m,\u001b[0m \u001b[0mbatch_size\u001b[0m \u001b[0;34m=\u001b[0m \u001b[0;36m512\u001b[0m\u001b[0;34m)\u001b[0m\u001b[0;34m\u001b[0m\u001b[0m\n",
      "\u001b[0;32m/usr/local/lib/python3.5/dist-packages/keras/engine/training.py\u001b[0m in \u001b[0;36mfit\u001b[0;34m(self, x, y, batch_size, epochs, verbose, callbacks, validation_split, validation_data, shuffle, class_weight, sample_weight, initial_epoch, steps_per_epoch, validation_steps, **kwargs)\u001b[0m\n\u001b[1;32m   1040\u001b[0m                                         \u001b[0minitial_epoch\u001b[0m\u001b[0;34m=\u001b[0m\u001b[0minitial_epoch\u001b[0m\u001b[0;34m,\u001b[0m\u001b[0;34m\u001b[0m\u001b[0m\n\u001b[1;32m   1041\u001b[0m                                         \u001b[0msteps_per_epoch\u001b[0m\u001b[0;34m=\u001b[0m\u001b[0msteps_per_epoch\u001b[0m\u001b[0;34m,\u001b[0m\u001b[0;34m\u001b[0m\u001b[0m\n\u001b[0;32m-> 1042\u001b[0;31m                                         validation_steps=validation_steps)\n\u001b[0m\u001b[1;32m   1043\u001b[0m \u001b[0;34m\u001b[0m\u001b[0m\n\u001b[1;32m   1044\u001b[0m     def evaluate(self, x=None, y=None,\n",
      "\u001b[0;32m/usr/local/lib/python3.5/dist-packages/keras/engine/training_arrays.py\u001b[0m in \u001b[0;36mfit_loop\u001b[0;34m(model, f, ins, out_labels, batch_size, epochs, verbose, callbacks, val_f, val_ins, shuffle, callback_metrics, initial_epoch, steps_per_epoch, validation_steps)\u001b[0m\n\u001b[1;32m    197\u001b[0m                     \u001b[0mins_batch\u001b[0m\u001b[0;34m[\u001b[0m\u001b[0mi\u001b[0m\u001b[0;34m]\u001b[0m \u001b[0;34m=\u001b[0m \u001b[0mins_batch\u001b[0m\u001b[0;34m[\u001b[0m\u001b[0mi\u001b[0m\u001b[0;34m]\u001b[0m\u001b[0;34m.\u001b[0m\u001b[0mtoarray\u001b[0m\u001b[0;34m(\u001b[0m\u001b[0;34m)\u001b[0m\u001b[0;34m\u001b[0m\u001b[0m\n\u001b[1;32m    198\u001b[0m \u001b[0;34m\u001b[0m\u001b[0m\n\u001b[0;32m--> 199\u001b[0;31m                 \u001b[0mouts\u001b[0m \u001b[0;34m=\u001b[0m \u001b[0mf\u001b[0m\u001b[0;34m(\u001b[0m\u001b[0mins_batch\u001b[0m\u001b[0;34m)\u001b[0m\u001b[0;34m\u001b[0m\u001b[0m\n\u001b[0m\u001b[1;32m    200\u001b[0m                 \u001b[0;32mif\u001b[0m \u001b[0;32mnot\u001b[0m \u001b[0misinstance\u001b[0m\u001b[0;34m(\u001b[0m\u001b[0mouts\u001b[0m\u001b[0;34m,\u001b[0m \u001b[0mlist\u001b[0m\u001b[0;34m)\u001b[0m\u001b[0;34m:\u001b[0m\u001b[0;34m\u001b[0m\u001b[0m\n\u001b[1;32m    201\u001b[0m                     \u001b[0mouts\u001b[0m \u001b[0;34m=\u001b[0m \u001b[0;34m[\u001b[0m\u001b[0mouts\u001b[0m\u001b[0;34m]\u001b[0m\u001b[0;34m\u001b[0m\u001b[0m\n",
      "\u001b[0;32m/usr/local/lib/python3.5/dist-packages/keras/backend/tensorflow_backend.py\u001b[0m in \u001b[0;36m__call__\u001b[0;34m(self, inputs)\u001b[0m\n\u001b[1;32m   2665\u001b[0m                     \u001b[0;34m'In order to feed symbolic tensors to a Keras model '\u001b[0m\u001b[0;34m\u001b[0m\u001b[0m\n\u001b[1;32m   2666\u001b[0m                     'in TensorFlow, you need tensorflow 1.8 or higher.')\n\u001b[0;32m-> 2667\u001b[0;31m             \u001b[0;32mreturn\u001b[0m \u001b[0mself\u001b[0m\u001b[0;34m.\u001b[0m\u001b[0m_legacy_call\u001b[0m\u001b[0;34m(\u001b[0m\u001b[0minputs\u001b[0m\u001b[0;34m)\u001b[0m\u001b[0;34m\u001b[0m\u001b[0m\n\u001b[0m\u001b[1;32m   2668\u001b[0m \u001b[0;34m\u001b[0m\u001b[0m\n\u001b[1;32m   2669\u001b[0m \u001b[0;34m\u001b[0m\u001b[0m\n",
      "\u001b[0;32m/usr/local/lib/python3.5/dist-packages/keras/backend/tensorflow_backend.py\u001b[0m in \u001b[0;36m_legacy_call\u001b[0;34m(self, inputs)\u001b[0m\n\u001b[1;32m   2647\u001b[0m         \u001b[0msession\u001b[0m \u001b[0;34m=\u001b[0m \u001b[0mget_session\u001b[0m\u001b[0;34m(\u001b[0m\u001b[0;34m)\u001b[0m\u001b[0;34m\u001b[0m\u001b[0m\n\u001b[1;32m   2648\u001b[0m         updated = session.run(fetches=fetches, feed_dict=feed_dict,\n\u001b[0;32m-> 2649\u001b[0;31m                               **self.session_kwargs)\n\u001b[0m\u001b[1;32m   2650\u001b[0m         \u001b[0;32mreturn\u001b[0m \u001b[0mupdated\u001b[0m\u001b[0;34m[\u001b[0m\u001b[0;34m:\u001b[0m\u001b[0mlen\u001b[0m\u001b[0;34m(\u001b[0m\u001b[0mself\u001b[0m\u001b[0;34m.\u001b[0m\u001b[0moutputs\u001b[0m\u001b[0;34m)\u001b[0m\u001b[0;34m]\u001b[0m\u001b[0;34m\u001b[0m\u001b[0m\n\u001b[1;32m   2651\u001b[0m \u001b[0;34m\u001b[0m\u001b[0m\n",
      "\u001b[0;32m/usr/local/lib/python3.5/dist-packages/tensorflow/python/client/session.py\u001b[0m in \u001b[0;36mrun\u001b[0;34m(self, fetches, feed_dict, options, run_metadata)\u001b[0m\n\u001b[1;32m    893\u001b[0m     \u001b[0;32mtry\u001b[0m\u001b[0;34m:\u001b[0m\u001b[0;34m\u001b[0m\u001b[0m\n\u001b[1;32m    894\u001b[0m       result = self._run(None, fetches, feed_dict, options_ptr,\n\u001b[0;32m--> 895\u001b[0;31m                          run_metadata_ptr)\n\u001b[0m\u001b[1;32m    896\u001b[0m       \u001b[0;32mif\u001b[0m \u001b[0mrun_metadata\u001b[0m\u001b[0;34m:\u001b[0m\u001b[0;34m\u001b[0m\u001b[0m\n\u001b[1;32m    897\u001b[0m         \u001b[0mproto_data\u001b[0m \u001b[0;34m=\u001b[0m \u001b[0mtf_session\u001b[0m\u001b[0;34m.\u001b[0m\u001b[0mTF_GetBuffer\u001b[0m\u001b[0;34m(\u001b[0m\u001b[0mrun_metadata_ptr\u001b[0m\u001b[0;34m)\u001b[0m\u001b[0;34m\u001b[0m\u001b[0m\n",
      "\u001b[0;32m/usr/local/lib/python3.5/dist-packages/tensorflow/python/client/session.py\u001b[0m in \u001b[0;36m_run\u001b[0;34m(self, handle, fetches, feed_dict, options, run_metadata)\u001b[0m\n\u001b[1;32m   1126\u001b[0m     \u001b[0;32mif\u001b[0m \u001b[0mfinal_fetches\u001b[0m \u001b[0;32mor\u001b[0m \u001b[0mfinal_targets\u001b[0m \u001b[0;32mor\u001b[0m \u001b[0;34m(\u001b[0m\u001b[0mhandle\u001b[0m \u001b[0;32mand\u001b[0m \u001b[0mfeed_dict_tensor\u001b[0m\u001b[0;34m)\u001b[0m\u001b[0;34m:\u001b[0m\u001b[0;34m\u001b[0m\u001b[0m\n\u001b[1;32m   1127\u001b[0m       results = self._do_run(handle, final_targets, final_fetches,\n\u001b[0;32m-> 1128\u001b[0;31m                              feed_dict_tensor, options, run_metadata)\n\u001b[0m\u001b[1;32m   1129\u001b[0m     \u001b[0;32melse\u001b[0m\u001b[0;34m:\u001b[0m\u001b[0;34m\u001b[0m\u001b[0m\n\u001b[1;32m   1130\u001b[0m       \u001b[0mresults\u001b[0m \u001b[0;34m=\u001b[0m \u001b[0;34m[\u001b[0m\u001b[0;34m]\u001b[0m\u001b[0;34m\u001b[0m\u001b[0m\n",
      "\u001b[0;32m/usr/local/lib/python3.5/dist-packages/tensorflow/python/client/session.py\u001b[0m in \u001b[0;36m_do_run\u001b[0;34m(self, handle, target_list, fetch_list, feed_dict, options, run_metadata)\u001b[0m\n\u001b[1;32m   1342\u001b[0m     \u001b[0;32mif\u001b[0m \u001b[0mhandle\u001b[0m \u001b[0;32mis\u001b[0m \u001b[0;32mNone\u001b[0m\u001b[0;34m:\u001b[0m\u001b[0;34m\u001b[0m\u001b[0m\n\u001b[1;32m   1343\u001b[0m       return self._do_call(_run_fn, self._session, feeds, fetches, targets,\n\u001b[0;32m-> 1344\u001b[0;31m                            options, run_metadata)\n\u001b[0m\u001b[1;32m   1345\u001b[0m     \u001b[0;32melse\u001b[0m\u001b[0;34m:\u001b[0m\u001b[0;34m\u001b[0m\u001b[0m\n\u001b[1;32m   1346\u001b[0m       \u001b[0;32mreturn\u001b[0m \u001b[0mself\u001b[0m\u001b[0;34m.\u001b[0m\u001b[0m_do_call\u001b[0m\u001b[0;34m(\u001b[0m\u001b[0m_prun_fn\u001b[0m\u001b[0;34m,\u001b[0m \u001b[0mself\u001b[0m\u001b[0;34m.\u001b[0m\u001b[0m_session\u001b[0m\u001b[0;34m,\u001b[0m \u001b[0mhandle\u001b[0m\u001b[0;34m,\u001b[0m \u001b[0mfeeds\u001b[0m\u001b[0;34m,\u001b[0m \u001b[0mfetches\u001b[0m\u001b[0;34m)\u001b[0m\u001b[0;34m\u001b[0m\u001b[0m\n",
      "\u001b[0;32m/usr/local/lib/python3.5/dist-packages/tensorflow/python/client/session.py\u001b[0m in \u001b[0;36m_do_call\u001b[0;34m(self, fn, *args)\u001b[0m\n\u001b[1;32m   1348\u001b[0m   \u001b[0;32mdef\u001b[0m \u001b[0m_do_call\u001b[0m\u001b[0;34m(\u001b[0m\u001b[0mself\u001b[0m\u001b[0;34m,\u001b[0m \u001b[0mfn\u001b[0m\u001b[0;34m,\u001b[0m \u001b[0;34m*\u001b[0m\u001b[0margs\u001b[0m\u001b[0;34m)\u001b[0m\u001b[0;34m:\u001b[0m\u001b[0;34m\u001b[0m\u001b[0m\n\u001b[1;32m   1349\u001b[0m     \u001b[0;32mtry\u001b[0m\u001b[0;34m:\u001b[0m\u001b[0;34m\u001b[0m\u001b[0m\n\u001b[0;32m-> 1350\u001b[0;31m       \u001b[0;32mreturn\u001b[0m \u001b[0mfn\u001b[0m\u001b[0;34m(\u001b[0m\u001b[0;34m*\u001b[0m\u001b[0margs\u001b[0m\u001b[0;34m)\u001b[0m\u001b[0;34m\u001b[0m\u001b[0m\n\u001b[0m\u001b[1;32m   1351\u001b[0m     \u001b[0;32mexcept\u001b[0m \u001b[0merrors\u001b[0m\u001b[0;34m.\u001b[0m\u001b[0mOpError\u001b[0m \u001b[0;32mas\u001b[0m \u001b[0me\u001b[0m\u001b[0;34m:\u001b[0m\u001b[0;34m\u001b[0m\u001b[0m\n\u001b[1;32m   1352\u001b[0m       \u001b[0mmessage\u001b[0m \u001b[0;34m=\u001b[0m \u001b[0mcompat\u001b[0m\u001b[0;34m.\u001b[0m\u001b[0mas_text\u001b[0m\u001b[0;34m(\u001b[0m\u001b[0me\u001b[0m\u001b[0;34m.\u001b[0m\u001b[0mmessage\u001b[0m\u001b[0;34m)\u001b[0m\u001b[0;34m\u001b[0m\u001b[0m\n",
      "\u001b[0;32m/usr/local/lib/python3.5/dist-packages/tensorflow/python/client/session.py\u001b[0m in \u001b[0;36m_run_fn\u001b[0;34m(session, feed_dict, fetch_list, target_list, options, run_metadata)\u001b[0m\n\u001b[1;32m   1327\u001b[0m           return tf_session.TF_Run(session, options,\n\u001b[1;32m   1328\u001b[0m                                    \u001b[0mfeed_dict\u001b[0m\u001b[0;34m,\u001b[0m \u001b[0mfetch_list\u001b[0m\u001b[0;34m,\u001b[0m \u001b[0mtarget_list\u001b[0m\u001b[0;34m,\u001b[0m\u001b[0;34m\u001b[0m\u001b[0m\n\u001b[0;32m-> 1329\u001b[0;31m                                    status, run_metadata)\n\u001b[0m\u001b[1;32m   1330\u001b[0m \u001b[0;34m\u001b[0m\u001b[0m\n\u001b[1;32m   1331\u001b[0m     \u001b[0;32mdef\u001b[0m \u001b[0m_prun_fn\u001b[0m\u001b[0;34m(\u001b[0m\u001b[0msession\u001b[0m\u001b[0;34m,\u001b[0m \u001b[0mhandle\u001b[0m\u001b[0;34m,\u001b[0m \u001b[0mfeed_dict\u001b[0m\u001b[0;34m,\u001b[0m \u001b[0mfetch_list\u001b[0m\u001b[0;34m)\u001b[0m\u001b[0;34m:\u001b[0m\u001b[0;34m\u001b[0m\u001b[0m\n",
      "\u001b[0;31mKeyboardInterrupt\u001b[0m: "
     ]
    }
   ],
   "source": [
    "X_train = X_train.reshape(X_train.shape[0], X_train.shape[1], 1)\n",
    "X_test = X_test.reshape(X_test.shape[0], X_test.shape[1], 1)\n",
    "input_shape = (X_train.shape[1], X_train.shape[2])\n",
    "model_cls = Sequential()\n",
    "model_cls.add(Masking(mask_value=-1, input_shape=input_shape, name=\"masking_layer\"))\n",
    "model_cls.add(LSTM(units=64, return_sequences=True, dropout=0.25, name=\"lstm1\"))\n",
    "model_cls.add(LSTM(units=128, return_sequences=False, dropout=0.25, name=\"lstm2\"))\n",
    "model_cls.add(Dense(units=2, activation=\"softmax\", name=\"dense5\"))\n",
    "model_cls.compile(loss=\"categorical_crossentropy\", optimizer=\"adam\", metrics=[\"accuracy\"])\n",
    "\n",
    "early_stopping = EarlyStopping(monitor=\"val_loss\", patience=10)\n",
    "lr_reduction = ReduceLROnPlateau(monitor=\"val_loss\", patience=5, verbose=1, factor=0.2, min_lr=1e-5)\n",
    "hist_obj = model_cls.fit(X_train, y_train, batch_size=512, epochs=1000, verbose=1,validation_data=(X_test, y_test), callbacks=[early_stopping, lr_reduction])\n",
    "\n",
    "score = model_cls.evaluate(X_test, y_test, batch_size = 512)\n",
    "print ('Test accuracy: ', score[1])"
   ]
  },
  {
   "cell_type": "code",
   "execution_count": 41,
   "metadata": {},
   "outputs": [
    {
     "name": "stdout",
     "output_type": "stream",
     "text": [
      "Train on 11702 samples, validate on 3911 samples\n",
      "Epoch 1/1000\n",
      "11702/11702 [==============================] - 6s 530us/step - loss: 0.6922 - acc: 0.5067 - val_loss: 0.6922 - val_acc: 0.5180\n",
      "Epoch 2/1000\n",
      "11702/11702 [==============================] - 3s 290us/step - loss: 0.6910 - acc: 0.5297 - val_loss: 0.6920 - val_acc: 0.5180\n",
      "Epoch 3/1000\n",
      "11702/11702 [==============================] - 3s 293us/step - loss: 0.6903 - acc: 0.5297 - val_loss: 0.6929 - val_acc: 0.5180\n",
      "Epoch 4/1000\n",
      "11702/11702 [==============================] - 3s 296us/step - loss: 0.6895 - acc: 0.5274 - val_loss: 0.6915 - val_acc: 0.5216\n",
      "Epoch 5/1000\n",
      "11702/11702 [==============================] - 3s 287us/step - loss: 0.6882 - acc: 0.5342 - val_loss: 0.6920 - val_acc: 0.5234\n",
      "Epoch 6/1000\n",
      "11702/11702 [==============================] - 3s 288us/step - loss: 0.6866 - acc: 0.5402 - val_loss: 0.6923 - val_acc: 0.5238\n",
      "Epoch 7/1000\n",
      "11702/11702 [==============================] - 3s 287us/step - loss: 0.6869 - acc: 0.5385 - val_loss: 0.6928 - val_acc: 0.5238\n",
      "Epoch 8/1000\n",
      "11702/11702 [==============================] - 3s 286us/step - loss: 0.6860 - acc: 0.5406 - val_loss: 0.6922 - val_acc: 0.5148\n",
      "Epoch 9/1000\n",
      "11702/11702 [==============================] - 3s 287us/step - loss: 0.6867 - acc: 0.5392 - val_loss: 0.6948 - val_acc: 0.5237\n",
      "\n",
      "Epoch 00009: ReduceLROnPlateau reducing learning rate to 0.00020000000949949026.\n",
      "Epoch 10/1000\n",
      "11702/11702 [==============================] - 3s 283us/step - loss: 0.6854 - acc: 0.5417 - val_loss: 0.6914 - val_acc: 0.5198\n",
      "Epoch 11/1000\n",
      "11702/11702 [==============================] - 3s 285us/step - loss: 0.6841 - acc: 0.5438 - val_loss: 0.6926 - val_acc: 0.5208\n",
      "Epoch 12/1000\n",
      "11702/11702 [==============================] - 3s 284us/step - loss: 0.6838 - acc: 0.5428 - val_loss: 0.6931 - val_acc: 0.5208\n",
      "Epoch 13/1000\n",
      "11702/11702 [==============================] - 3s 297us/step - loss: 0.6834 - acc: 0.5437 - val_loss: 0.6931 - val_acc: 0.5214\n",
      "Epoch 14/1000\n",
      "11702/11702 [==============================] - 4s 337us/step - loss: 0.6838 - acc: 0.5429 - val_loss: 0.6933 - val_acc: 0.5211\n",
      "Epoch 15/1000\n",
      "11702/11702 [==============================] - 3s 287us/step - loss: 0.6835 - acc: 0.5447 - val_loss: 0.6924 - val_acc: 0.5198\n",
      "\n",
      "Epoch 00015: ReduceLROnPlateau reducing learning rate to 4.0000001899898055e-05.\n",
      "Epoch 16/1000\n",
      "11702/11702 [==============================] - 3s 285us/step - loss: 0.6835 - acc: 0.5444 - val_loss: 0.6926 - val_acc: 0.5215\n",
      "Epoch 17/1000\n",
      "11702/11702 [==============================] - 3s 288us/step - loss: 0.6830 - acc: 0.5435 - val_loss: 0.6925 - val_acc: 0.5216\n",
      "Epoch 18/1000\n",
      "11702/11702 [==============================] - 3s 288us/step - loss: 0.6828 - acc: 0.5448 - val_loss: 0.6927 - val_acc: 0.5216\n",
      "Epoch 19/1000\n",
      "11702/11702 [==============================] - 3s 288us/step - loss: 0.6828 - acc: 0.5447 - val_loss: 0.6927 - val_acc: 0.5216\n",
      "Epoch 20/1000\n",
      "11702/11702 [==============================] - 3s 285us/step - loss: 0.6828 - acc: 0.5448 - val_loss: 0.6928 - val_acc: 0.5216\n",
      "\n",
      "Epoch 00020: ReduceLROnPlateau reducing learning rate to 1e-05.\n",
      "3911/3911 [==============================] - 0s 80us/step\n",
      "Test accuracy:  0.5216057288680227\n"
     ]
    }
   ],
   "source": [
    "model_cls = Sequential()\n",
    "model_cls.add(Conv1D(64, 3, activation=\"relu\", input_shape=(X_train.shape[1:])))  # filters, kernel_size\n",
    "model_cls.add(Conv1D(64, 3, activation=\"relu\"))\n",
    "model_cls.add(MaxPooling1D(3))\n",
    "model_cls.add(Conv1D(128, 3, activation=\"relu\"))\n",
    "model_cls.add(Conv1D(128, 3, activation=\"relu\"))\n",
    "model_cls.add(GlobalAveragePooling1D())\n",
    "model_cls.add(Dropout(0.25))\n",
    "model_cls.add(Dense(2, activation=\"sigmoid\"))\n",
    "model_cls.compile(loss=\"binary_crossentropy\", optimizer=\"adam\", metrics=[\"accuracy\"])  # TODO: categorical_crossentropy\n",
    "\n",
    "early_stopping = EarlyStopping(monitor=\"val_loss\", patience=10)\n",
    "lr_reduction = ReduceLROnPlateau(monitor=\"val_loss\", patience=5, verbose=1, factor=0.2, min_lr=1e-5)\n",
    "hist_obj = model_cls.fit(X_train, y_train, batch_size=512, epochs=1000, verbose=1,validation_data=(X_test, y_test), callbacks=[early_stopping, lr_reduction])\n",
    "\n",
    "score = model_cls.evaluate(X_test, y_test, batch_size = 512)\n",
    "print ('Test accuracy: ', score[1])"
   ]
  },
  {
   "cell_type": "code",
   "execution_count": 44,
   "metadata": {},
   "outputs": [
    {
     "name": "stderr",
     "output_type": "stream",
     "text": [
      "/usr/local/lib/python3.5/dist-packages/ipykernel_launcher.py:101: ParserWarning: Falling back to the 'python' engine because the 'c' engine does not support regex separators (separators > 1 char and different from '\\s+' are interpreted as regex); you can avoid this warning by specifying engine='python'.\n",
      "/usr/local/lib/python3.5/dist-packages/ipykernel_launcher.py:102: ParserWarning: Falling back to the 'python' engine because the 'c' engine does not support regex separators (separators > 1 char and different from '\\s+' are interpreted as regex); you can avoid this warning by specifying engine='python'.\n",
      "/usr/local/lib/python3.5/dist-packages/ipykernel_launcher.py:6: UserWarning: Update your `Dense` call to the Keras 2 API: `Dense(512, kernel_initializer=\"uniform\", input_dim=50, activation=\"tanh\")`\n",
      "  \n",
      "/usr/local/lib/python3.5/dist-packages/ipykernel_launcher.py:22: UserWarning: The `nb_epoch` argument in `fit` has been renamed `epochs`.\n"
     ]
    },
    {
     "name": "stdout",
     "output_type": "stream",
     "text": [
      "Epoch 1/20\n",
      "11702/11702 [==============================] - 12s 1ms/step - loss: 0.6905 - acc: 0.5172\n",
      "Epoch 2/20\n",
      "11702/11702 [==============================] - 10s 871us/step - loss: 0.6901 - acc: 0.5232\n",
      "Epoch 3/20\n",
      "11702/11702 [==============================] - 10s 859us/step - loss: 0.6890 - acc: 0.5345\n",
      "Epoch 4/20\n",
      "11702/11702 [==============================] - 10s 860us/step - loss: 0.6872 - acc: 0.5288\n",
      "Epoch 5/20\n",
      "11702/11702 [==============================] - 10s 852us/step - loss: 0.6871 - acc: 0.5404\n",
      "Epoch 6/20\n",
      "11702/11702 [==============================] - 10s 854us/step - loss: 0.6852 - acc: 0.5390\n",
      "Epoch 7/20\n",
      "11702/11702 [==============================] - 10s 833us/step - loss: 0.6854 - acc: 0.5461\n",
      "Epoch 8/20\n",
      "11702/11702 [==============================] - 11s 904us/step - loss: 0.6835 - acc: 0.5443\n",
      "Epoch 9/20\n",
      "11702/11702 [==============================] - 10s 864us/step - loss: 0.6847 - acc: 0.5428\n",
      "Epoch 10/20\n",
      "11702/11702 [==============================] - 10s 829us/step - loss: 0.6843 - acc: 0.5449\n",
      "Epoch 11/20\n",
      "11702/11702 [==============================] - 10s 830us/step - loss: 0.6827 - acc: 0.5467\n",
      "Epoch 12/20\n",
      "11702/11702 [==============================] - 10s 889us/step - loss: 0.6855 - acc: 0.5429\n",
      "Epoch 13/20\n",
      "11702/11702 [==============================] - 10s 837us/step - loss: 0.6823 - acc: 0.5462\n",
      "Epoch 14/20\n",
      "11702/11702 [==============================] - 10s 851us/step - loss: 0.6830 - acc: 0.5437\n",
      "Epoch 15/20\n",
      "11702/11702 [==============================] - 10s 856us/step - loss: 0.6831 - acc: 0.5436\n",
      "Epoch 16/20\n",
      "11702/11702 [==============================] - 10s 859us/step - loss: 0.6845 - acc: 0.5392\n",
      "Epoch 17/20\n",
      "11702/11702 [==============================] - 10s 849us/step - loss: 0.6834 - acc: 0.5466\n",
      "Epoch 18/20\n",
      "11702/11702 [==============================] - 10s 843us/step - loss: 0.6859 - acc: 0.5445\n",
      "Epoch 19/20\n",
      "11702/11702 [==============================] - 10s 864us/step - loss: 0.6833 - acc: 0.5455\n",
      "Epoch 20/20\n",
      "11702/11702 [==============================] - 10s 887us/step - loss: 0.6835 - acc: 0.5467\n",
      "3911/3911 [==============================] - 2s 466us/step\n",
      "Test accuracy:  0.5231398619736165\n"
     ]
    }
   ],
   "source": [
    "preprocess_obj = Preprocessing()\n",
    "preprocess_obj.set_sent_vec_type(\"fasttext\")\n",
    "X_train, X_test, y_train, y_test = preprocess_obj.gen_train_val_data()\n",
    "\n",
    "model = Sequential()\n",
    "model.add(Dense(512, input_dim = 50, init = 'uniform', activation = 'tanh'))\n",
    "model.add(Dropout(0.5))\n",
    "model.add(Dense(256, activation = 'relu'))\n",
    "model.add(Dropout(0.5))\n",
    "model.add(Dense(128, activation = 'relu'))\n",
    "model.add(Dropout(0.5))\n",
    "model.add(Dense(64, activation = 'relu'))\n",
    "model.add(Dropout(0.5))\n",
    "model.add(Dense(32, activation = 'relu'))\n",
    "model.add(Dropout(0.5))\n",
    "model.add(Dense(1, activation = 'sigmoid'))\n",
    "\n",
    "model.compile(loss = 'binary_crossentropy',\n",
    "              optimizer = 'adam',\n",
    "              metrics = ['accuracy'])\n",
    "\n",
    "model.fit(X_train, y_train, nb_epoch = 20, batch_size = 16)\n",
    "score = model.evaluate(X_test, y_test, batch_size = 16)\n",
    "print ('Test accuracy: ', score[1])"
   ]
  },
  {
   "cell_type": "code",
   "execution_count": 50,
   "metadata": {},
   "outputs": [
    {
     "name": "stderr",
     "output_type": "stream",
     "text": [
      "/usr/local/lib/python3.5/dist-packages/ipykernel_launcher.py:2: UserWarning: Update your `Dense` call to the Keras 2 API: `Dense(512, kernel_initializer=\"uniform\", input_dim=50, activation=\"tanh\")`\n",
      "  \n",
      "/usr/local/lib/python3.5/dist-packages/ipykernel_launcher.py:18: UserWarning: The `nb_epoch` argument in `fit` has been renamed `epochs`.\n"
     ]
    },
    {
     "name": "stdout",
     "output_type": "stream",
     "text": [
      "Epoch 1/20\n",
      "11702/11702 [==============================] - 13s 1ms/step - loss: 0.6925 - acc: 0.5146\n",
      "Epoch 2/20\n",
      "11702/11702 [==============================] - 10s 860us/step - loss: 0.6911 - acc: 0.5270\n",
      "Epoch 3/20\n",
      "11702/11702 [==============================] - 9s 797us/step - loss: 0.6879 - acc: 0.5321\n",
      "Epoch 4/20\n",
      "11702/11702 [==============================] - 10s 845us/step - loss: 0.6864 - acc: 0.5333\n",
      "Epoch 5/20\n",
      "11702/11702 [==============================] - 10s 839us/step - loss: 0.6858 - acc: 0.5335\n",
      "Epoch 6/20\n",
      "11702/11702 [==============================] - 10s 895us/step - loss: 0.6864 - acc: 0.5421\n",
      "Epoch 7/20\n",
      "11702/11702 [==============================] - 10s 849us/step - loss: 0.6856 - acc: 0.5391\n",
      "Epoch 8/20\n",
      "11702/11702 [==============================] - 10s 872us/step - loss: 0.6856 - acc: 0.5426\n",
      "Epoch 9/20\n",
      "11702/11702 [==============================] - 10s 856us/step - loss: 0.6847 - acc: 0.5412\n",
      "Epoch 10/20\n",
      "11702/11702 [==============================] - 10s 849us/step - loss: 0.6841 - acc: 0.5429\n",
      "Epoch 11/20\n",
      "11702/11702 [==============================] - 10s 837us/step - loss: 0.6855 - acc: 0.5452\n",
      "Epoch 12/20\n",
      "11702/11702 [==============================] - 10s 842us/step - loss: 0.6830 - acc: 0.5433\n",
      "Epoch 13/20\n",
      "11702/11702 [==============================] - 10s 871us/step - loss: 0.6847 - acc: 0.5430\n",
      "Epoch 14/20\n",
      "11702/11702 [==============================] - 9s 806us/step - loss: 0.6835 - acc: 0.5428\n",
      "Epoch 15/20\n",
      "11702/11702 [==============================] - 10s 886us/step - loss: 0.6853 - acc: 0.5396\n",
      "Epoch 16/20\n",
      "11702/11702 [==============================] - 10s 848us/step - loss: 0.6845 - acc: 0.5442\n",
      "Epoch 17/20\n",
      "11702/11702 [==============================] - 10s 838us/step - loss: 0.6837 - acc: 0.5461\n",
      "Epoch 18/20\n",
      "11702/11702 [==============================] - 10s 857us/step - loss: 0.6839 - acc: 0.5431\n",
      "Epoch 19/20\n",
      "11702/11702 [==============================] - ETA: 0s - loss: 0.6829 - acc: 0.543 - 10s 847us/step - loss: 0.6828 - acc: 0.5435\n",
      "Epoch 20/20\n",
      "11702/11702 [==============================] - 10s 841us/step - loss: 0.6837 - acc: 0.5393\n",
      "3911/3911 [==============================] - 1s 378us/step\n",
      "Test accuracy:  0.5233955510556927\n"
     ]
    }
   ],
   "source": [
    "model = Sequential()\n",
    "model.add(Dense(512, input_dim = 50, init = 'uniform', activation = 'tanh'))\n",
    "model.add(Dropout(0.5))\n",
    "model.add(Dense(256, activation = 'relu'))\n",
    "model.add(Dropout(0.5))\n",
    "model.add(Dense(128, activation = 'relu'))\n",
    "model.add(Dropout(0.5))\n",
    "model.add(Dense(64, activation = 'relu'))\n",
    "model.add(Dropout(0.5))\n",
    "model.add(Dense(32, activation = 'relu'))\n",
    "model.add(Dropout(0.5))\n",
    "model.add(Dense(1, activation = 'sigmoid'))\n",
    "\n",
    "model.compile(loss = 'binary_crossentropy',\n",
    "              optimizer = 'adam',\n",
    "              metrics = ['accuracy'])\n",
    "\n",
    "model.fit(X_train, y_train, nb_epoch = 20, batch_size = 16)\n",
    "score = model.evaluate(X_test, y_test, batch_size = 16)\n",
    "print ('Test accuracy: ', score[1])"
   ]
  },
  {
   "cell_type": "code",
   "execution_count": 53,
   "metadata": {},
   "outputs": [
    {
     "name": "stderr",
     "output_type": "stream",
     "text": [
      "/usr/local/lib/python3.5/dist-packages/ipykernel_launcher.py:101: ParserWarning: Falling back to the 'python' engine because the 'c' engine does not support regex separators (separators > 1 char and different from '\\s+' are interpreted as regex); you can avoid this warning by specifying engine='python'.\n",
      "/usr/local/lib/python3.5/dist-packages/ipykernel_launcher.py:102: ParserWarning: Falling back to the 'python' engine because the 'c' engine does not support regex separators (separators > 1 char and different from '\\s+' are interpreted as regex); you can avoid this warning by specifying engine='python'.\n"
     ]
    },
    {
     "name": "stdout",
     "output_type": "stream",
     "text": [
      "SVM= 0.5205829711071337\n"
     ]
    }
   ],
   "source": [
    "from sklearn.svm import SVC\n",
    "\n",
    "preprocess_obj.set_sent_vec_type(\"fasttext\")\n",
    "train_set1, test_set1, target_train, target_test = preprocess_obj.gen_train_val_data()\n",
    "svclf = SVC(kernel ='linear',probability=True)\n",
    "svclf.fit(train_set1, target_train)\n",
    "pred_svc = svclf.predict(test_set1)\n",
    "print('SVM=',sum(pred_svc==target_test)/len(target_test))"
   ]
  },
  {
   "cell_type": "code",
   "execution_count": 52,
   "metadata": {},
   "outputs": [
    {
     "data": {
      "text/plain": [
       "(3911, 50)"
      ]
     },
     "execution_count": 52,
     "metadata": {},
     "output_type": "execute_result"
    }
   ],
   "source": [
    "target_train.shape"
   ]
  },
  {
   "cell_type": "code",
   "execution_count": 5,
   "metadata": {},
   "outputs": [
    {
     "name": "stderr",
     "output_type": "stream",
     "text": [
      "/usr/local/lib/python3.5/dist-packages/ipykernel_launcher.py:101: ParserWarning: Falling back to the 'python' engine because the 'c' engine does not support regex separators (separators > 1 char and different from '\\s+' are interpreted as regex); you can avoid this warning by specifying engine='python'.\n",
      "/usr/local/lib/python3.5/dist-packages/ipykernel_launcher.py:102: ParserWarning: Falling back to the 'python' engine because the 'c' engine does not support regex separators (separators > 1 char and different from '\\s+' are interpreted as regex); you can avoid this warning by specifying engine='python'.\n"
     ]
    },
    {
     "name": "stdout",
     "output_type": "stream",
     "text": [
      "SVM= 0.5236512400920481\n"
     ]
    }
   ],
   "source": [
    "from sklearn.svm import SVC\n",
    "preprocess_obj = Preprocessing()\n",
    "preprocess_obj.set_sent_vec_type(\"fasttext\")\n",
    "train_set1, test_set1, target_train, target_test = preprocess_obj.gen_train_val_data()\n",
    "svclf = SVC(kernel ='linear',probability=True)\n",
    "svclf.fit(train_set1, target_train)\n",
    "pred_svc = svclf.predict(test_set1)\n",
    "print('SVM=',sum(pred_svc==target_test)/len(target_test))"
   ]
  },
  {
   "cell_type": "code",
   "execution_count": null,
   "metadata": {
    "collapsed": true
   },
   "outputs": [],
   "source": []
  }
 ],
 "metadata": {
  "kernelspec": {
   "display_name": "Python 3",
   "language": "python",
   "name": "python3"
  },
  "language_info": {
   "codemirror_mode": {
    "name": "ipython",
    "version": 3
   },
   "file_extension": ".py",
   "mimetype": "text/x-python",
   "name": "python",
   "nbconvert_exporter": "python",
   "pygments_lexer": "ipython3",
   "version": "3.5.2"
  }
 },
 "nbformat": 4,
 "nbformat_minor": 2
}
